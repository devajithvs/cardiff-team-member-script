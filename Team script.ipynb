{
 "cells": [
  {
   "cell_type": "code",
   "execution_count": 23,
   "id": "a6d0a4cc-b966-4efb-a877-1eebe52a0f05",
   "metadata": {},
   "outputs": [
    {
     "name": "stdout",
     "output_type": "stream",
     "text": [
      "['Alport Matthew John', 'Al-Shorbaji Samy Najeeb', 'Booth Henry', 'Jackson Richard Frank', 'Li Shuoyu', 'Valaparambil Sreeramaswamy Devajith Valaparambil', 'Zhou Qiye']\n"
     ]
    }
   ],
   "source": [
    "from pdfminer.high_level import extract_text\n",
    "text = extract_text('Team list 20th October 2021.pdf')\n",
    "\n",
    "# print(text)\n",
    "# If you uncomment the print statement you can see that that for each page,\n",
    "# first column elements are printed followed by the 2nd column, 1st 3 lines can be ignored\n",
    "\n",
    "name_list = [] # An array that will hold the names sequentially\n",
    "group_list = [] # An array that will hold the group nos sequentially\n",
    "\n",
    "for line in text.splitlines()[3:]:\n",
    "    if line.strip(): # To mske sure the line is not empty\n",
    "        try:\n",
    "            # Try converting to an integer\n",
    "            group_no = int(line)\n",
    "            # If the above line throws no error, the input is an integer number. It is therefore the group number\n",
    "            # If it throws ValueError, the value is not an integer, in this case it will be a string.\n",
    "            group_list.append(group_no)\n",
    "        except ValueError:\n",
    "            name_list.append(line.replace(\",\", \"\"))\n",
    "\n",
    "group_dict = {}\n",
    "for key, value in zip(group_list, name_list):\n",
    "    if key in group_dict:\n",
    "        group_dict[key].append(value)\n",
    "    else:\n",
    "        group_dict[key] = [value]\n",
    "\n",
    "group_dict = dict(sorted(group_dict.items()))\n",
    "\n",
    "# To find your group members replace the number below with your group no\n",
    "print(group_dict[2])\n",
    "            \n",
    "            \n",
    "\n",
    "    \n",
    "\n",
    "\n"
   ]
  },
  {
   "cell_type": "code",
   "execution_count": 26,
   "id": "ce76a2dc-9e3b-4c12-812f-3b58ab2e6af6",
   "metadata": {},
   "outputs": [],
   "source": [
    "with open('Team List.csv', 'w') as f:\n",
    "    [f.write('{0},{1}\\n'.format(key, \",\".join(value))) for key, value in group_dict.items()]"
   ]
  },
  {
   "cell_type": "code",
   "execution_count": null,
   "id": "70fb5284-705f-4117-a4e1-bb5c7dba3733",
   "metadata": {},
   "outputs": [],
   "source": []
  },
  {
   "cell_type": "code",
   "execution_count": null,
   "id": "546244ac-f4fa-4896-adde-de5f46cb458d",
   "metadata": {},
   "outputs": [],
   "source": []
  }
 ],
 "metadata": {
  "kernelspec": {
   "display_name": "Python 3 (ipykernel)",
   "language": "python",
   "name": "python3"
  },
  "language_info": {
   "codemirror_mode": {
    "name": "ipython",
    "version": 3
   },
   "file_extension": ".py",
   "mimetype": "text/x-python",
   "name": "python",
   "nbconvert_exporter": "python",
   "pygments_lexer": "ipython3",
   "version": "3.9.6"
  }
 },
 "nbformat": 4,
 "nbformat_minor": 5
}
